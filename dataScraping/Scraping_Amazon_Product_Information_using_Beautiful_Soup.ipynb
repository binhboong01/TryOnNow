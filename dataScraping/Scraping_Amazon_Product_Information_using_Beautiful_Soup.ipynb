{
 "cells": [
  {
   "cell_type": "code",
   "execution_count": 1,
   "metadata": {
    "colab": {
     "base_uri": "https://localhost:8080/"
    },
    "id": "j1wZkkQhQz5r",
    "outputId": "9541de4b-5a7a-49e8-ce7e-d5eeca4a4b05"
   },
   "outputs": [
    {
     "name": "stdout",
     "output_type": "stream",
     "text": [
      "Requirement already satisfied: bs4 in /opt/anaconda3/envs/web_scraping/lib/python3.9/site-packages (0.0.2)\n",
      "Requirement already satisfied: beautifulsoup4 in /opt/anaconda3/envs/web_scraping/lib/python3.9/site-packages (from bs4) (4.12.3)\n",
      "Requirement already satisfied: soupsieve>1.2 in /opt/anaconda3/envs/web_scraping/lib/python3.9/site-packages (from beautifulsoup4->bs4) (2.5)\n",
      "Note: you may need to restart the kernel to use updated packages.\n"
     ]
    }
   ],
   "source": [
    "%pip install bs4"
   ]
  },
  {
   "cell_type": "code",
   "execution_count": 2,
   "metadata": {
    "colab": {
     "base_uri": "https://localhost:8080/"
    },
    "id": "ykQ_cz9nRHji",
    "outputId": "f51455e3-62d8-49b4-f4e7-e748d4e4c66a"
   },
   "outputs": [
    {
     "name": "stdout",
     "output_type": "stream",
     "text": [
      "Requirement already satisfied: lxml in /opt/anaconda3/envs/web_scraping/lib/python3.9/site-packages (5.3.0)\n",
      "Note: you may need to restart the kernel to use updated packages.\n"
     ]
    }
   ],
   "source": [
    "%pip install lxml"
   ]
  },
  {
   "cell_type": "code",
   "execution_count": 3,
   "metadata": {
    "colab": {
     "base_uri": "https://localhost:8080/"
    },
    "id": "dP_IGNIqRJkE",
    "outputId": "957fee32-3e84-4510-83db-7466d2a001d6"
   },
   "outputs": [
    {
     "name": "stdout",
     "output_type": "stream",
     "text": [
      "Requirement already satisfied: requests in /opt/anaconda3/envs/web_scraping/lib/python3.9/site-packages (2.32.3)\n",
      "Requirement already satisfied: charset_normalizer<4,>=2 in /opt/anaconda3/envs/web_scraping/lib/python3.9/site-packages (from requests) (3.4.0)\n",
      "Requirement already satisfied: idna<4,>=2.5 in /opt/anaconda3/envs/web_scraping/lib/python3.9/site-packages (from requests) (3.10)\n",
      "Requirement already satisfied: urllib3<3,>=1.21.1 in /opt/anaconda3/envs/web_scraping/lib/python3.9/site-packages (from requests) (2.3.0)\n",
      "Requirement already satisfied: certifi>=2017.4.17 in /opt/anaconda3/envs/web_scraping/lib/python3.9/site-packages (from requests) (2024.12.14)\n",
      "Note: you may need to restart the kernel to use updated packages.\n"
     ]
    }
   ],
   "source": [
    "%pip install requests"
   ]
  },
  {
   "cell_type": "code",
   "execution_count": 4,
   "metadata": {},
   "outputs": [
    {
     "name": "stdout",
     "output_type": "stream",
     "text": [
      "Requirement already satisfied: selenium in /opt/anaconda3/envs/web_scraping/lib/python3.9/site-packages (4.27.1)\n",
      "Requirement already satisfied: urllib3<3,>=1.26 in /opt/anaconda3/envs/web_scraping/lib/python3.9/site-packages (from urllib3[socks]<3,>=1.26->selenium) (2.3.0)\n",
      "Requirement already satisfied: trio~=0.17 in /opt/anaconda3/envs/web_scraping/lib/python3.9/site-packages (from selenium) (0.28.0)\n",
      "Requirement already satisfied: trio-websocket~=0.9 in /opt/anaconda3/envs/web_scraping/lib/python3.9/site-packages (from selenium) (0.11.1)\n",
      "Requirement already satisfied: certifi>=2021.10.8 in /opt/anaconda3/envs/web_scraping/lib/python3.9/site-packages (from selenium) (2024.12.14)\n",
      "Requirement already satisfied: typing_extensions~=4.9 in /opt/anaconda3/envs/web_scraping/lib/python3.9/site-packages (from selenium) (4.12.2)\n",
      "Requirement already satisfied: websocket-client~=1.8 in /opt/anaconda3/envs/web_scraping/lib/python3.9/site-packages (from selenium) (1.8.0)\n",
      "Requirement already satisfied: attrs>=23.2.0 in /opt/anaconda3/envs/web_scraping/lib/python3.9/site-packages (from trio~=0.17->selenium) (24.3.0)\n",
      "Requirement already satisfied: sortedcontainers in /opt/anaconda3/envs/web_scraping/lib/python3.9/site-packages (from trio~=0.17->selenium) (2.4.0)\n",
      "Requirement already satisfied: idna in /opt/anaconda3/envs/web_scraping/lib/python3.9/site-packages (from trio~=0.17->selenium) (3.10)\n",
      "Requirement already satisfied: outcome in /opt/anaconda3/envs/web_scraping/lib/python3.9/site-packages (from trio~=0.17->selenium) (1.3.0.post0)\n",
      "Requirement already satisfied: sniffio>=1.3.0 in /opt/anaconda3/envs/web_scraping/lib/python3.9/site-packages (from trio~=0.17->selenium) (1.3.1)\n",
      "Requirement already satisfied: exceptiongroup in /opt/anaconda3/envs/web_scraping/lib/python3.9/site-packages (from trio~=0.17->selenium) (1.2.2)\n",
      "Requirement already satisfied: wsproto>=0.14 in /opt/anaconda3/envs/web_scraping/lib/python3.9/site-packages (from trio-websocket~=0.9->selenium) (1.2.0)\n",
      "Requirement already satisfied: pysocks!=1.5.7,<2.0,>=1.5.6 in /opt/anaconda3/envs/web_scraping/lib/python3.9/site-packages (from urllib3[socks]<3,>=1.26->selenium) (1.7.1)\n",
      "Requirement already satisfied: h11<1,>=0.9.0 in /opt/anaconda3/envs/web_scraping/lib/python3.9/site-packages (from wsproto>=0.14->trio-websocket~=0.9->selenium) (0.14.0)\n",
      "Note: you may need to restart the kernel to use updated packages.\n"
     ]
    }
   ],
   "source": [
    "%pip install selenium"
   ]
  },
  {
   "cell_type": "code",
   "execution_count": 1,
   "metadata": {
    "id": "sQ2-Eo8aRM66"
   },
   "outputs": [],
   "source": [
    "from bs4 import BeautifulSoup\n",
    "import requests\n",
    "from selenium import webdriver"
   ]
  },
  {
   "cell_type": "markdown",
   "metadata": {
    "id": "tWU_OKRkSVzY"
   },
   "source": [
    "To generate the right **HEADERS** dictionary for your web scraping use case, follow these steps:\n",
    "\n",
    "1. **Open Developer Tools in your web browser:** Go to the website you want to scrape and open the Developer Tools. Usually this can be done by right-clicking on the page and selecting \"Inspect\" or \"Inspect Element\".\n",
    "2. **Go to the Network Tab:** In the Developer Tools, find and click on the \"Network\" tab.\n",
    "3. **Reload the page:** Refresh the website while the Network tab is open. You will see a list of network requests being made.\n",
    "4. **Find the main request:** Look for the main request that loads the HTML content of the page. This is usually the first or one of the top requests in the list.\n",
    "5. **Inspect the Headers:** Click on the main request to see its details. Find the \"Headers\" tab within the request details.\n",
    "6. **Copy the User-Agent and Accept-Language:** Look for the \"User-Agent\" and \"Accept-Language\" headers and copy their values.\n",
    "7. **Create the HEADERS dictionary:** In your Python code, create a dictionary like the one in your example and paste the copied header values."
   ]
  },
  {
   "cell_type": "code",
   "execution_count": 6,
   "metadata": {},
   "outputs": [
    {
     "name": "stdout",
     "output_type": "stream",
     "text": [
      "[]\n"
     ]
    }
   ],
   "source": [
    "driver = webdriver.Chrome()\n",
    "\n",
    "driver.get('https://www.amazon.com/Best-Sellers-Clothing-Shoes-Jewelry/zgbs/fashion/ref=zg_bs_nav_fashion_0')\n",
    "html = driver.page_source\n",
    "soup = BeautifulSoup(html, 'lxml')\n",
    "\n",
    "products = soup.find_all('div', class_='gridItemRoot')\n",
    "print(products)\n"
   ]
  },
  {
   "cell_type": "code",
   "execution_count": 7,
   "metadata": {},
   "outputs": [],
   "source": [
    "product = soup.find_all('div')"
   ]
  },
  {
   "cell_type": "code",
   "execution_count": 14,
   "metadata": {},
   "outputs": [
    {
     "name": "stdout",
     "output_type": "stream",
     "text": [
      "Found 30 links:\n",
      "https://www.amazon.com/Hanes-Short-Sleeve-Beefy-T-Shirt-Black/dp/B00NOY3JOS/ref=zg_bs_g_fashion_d_sccl_23/144-7187702-4829661?psc=1\n",
      "https://www.amazon.com/Gildan-Mens-T-Shirt-White-Large/dp/B077ZMKWVM/ref=zg_bs_g_fashion_d_sccl_9/144-7187702-4829661?psc=1\n",
      "https://www.amazon.com/crocs-Unisex-Classic-Black-Women/dp/B0014C5S7S/ref=zg_bs_g_fashion_d_sccl_5/144-7187702-4829661?psc=1\n",
      "https://www.amazon.com/Abardsion-Womens-Crop-Long-Sleeve/dp/B0C85JZHQZ/ref=zg_bs_g_fashion_d_sccl_30/144-7187702-4829661?psc=1\n",
      "https://www.amazon.com/Hanes-Ecosmart-Fleece-Sweatshirt-Black/dp/B01L8JJ57U/ref=zg_bs_g_fashion_d_sccl_3/144-7187702-4829661?psc=1\n",
      "https://www.amazon.com/Art-Crep-Protect-Spray/dp/B013YRRFJ4/ref=zg_bs_g_fashion_d_sccl_2/144-7187702-4829661?psc=1\n",
      "https://www.amazon.com/Fruit-Loom-Mens-Tucked-T-Shirt/dp/B00VTV7E5S/ref=zg_bs_g_fashion_d_sccl_15/144-7187702-4829661?psc=1\n",
      "https://www.amazon.com/GYM-PEOPLE-Pockets-Control-Leggings/dp/B07HQM6NH8/ref=zg_bs_g_fashion_d_sccl_1/144-7187702-4829661?psc=1\n",
      "https://www.amazon.com/RockDove-Two-Tone-Memory-Slipper-11-12/dp/B01MR34D28/ref=zg_bs_g_fashion_d_sccl_20/144-7187702-4829661?psc=1\n",
      "https://www.amazon.com/Dickies-Multi-Pack-Dri-Tech-Moisture-Control/dp/B004QF0TFQ/ref=zg_bs_g_fashion_d_sccl_11/144-7187702-4829661?psc=1\n",
      "https://www.amazon.com/SINOPHANT-High-Waisted-Leggings-Women/dp/B0BVFDH9CP/ref=zg_bs_g_fashion_d_sccl_17/144-7187702-4829661?psc=1\n",
      "https://www.amazon.com/Fruit-Loom-Eversoft-Fleece-Sweatpants/dp/B08YHLVJN3/ref=zg_bs_g_fashion_d_sccl_8/144-7187702-4829661?psc=1\n",
      "https://www.amazon.com/Gildan-Heavy-Blend-Crewneck-Sweatshirt/dp/B01M1OKRTK/ref=zg_bs_g_fashion_d_sccl_28/144-7187702-4829661?psc=1\n",
      "https://www.amazon.com/ANRABESS-Crewneck-T-Shirt-Workout-Outfits/dp/B0CYZM5RSM/ref=zg_bs_g_fashion_d_sccl_24/144-7187702-4829661?psc=1\n",
      "https://www.amazon.com/Fruit-Loom-Eversoft-Sweatshirts-Zip-Black/dp/B08YGTLS7P/ref=zg_bs_g_fashion_d_sccl_29/144-7187702-4829661?psc=1\n",
      "https://www.amazon.com/Hanes-Breathable-ComfortFlex-Waistband-Multipack/dp/B086KSDTQ4/ref=zg_bs_g_fashion_d_sccl_10/144-7187702-4829661?psc=1\n",
      "https://www.amazon.com/CRZ-YOGA-Butterluxe-Waisted-Legging/dp/B09P1GB319/ref=zg_bs_g_fashion_d_sccl_13/144-7187702-4829661?psc=1\n",
      "https://www.amazon.com/Carhartt-Acrylic-Watch-Black-Size/dp/B002G9UDYG/ref=zg_bs_g_fashion_d_sccl_6/144-7187702-4829661?psc=1\n",
      "https://www.amazon.com/Arctix-Essential-Insulated-Overalls-Regular/dp/B004C6QPHU/ref=zg_bs_g_fashion_d_sccl_19/144-7187702-4829661?psc=1\n",
      "https://www.amazon.com/No-Nonsense-Womens-Opaque-Control-Top/dp/B087QRM45Y/ref=zg_bs_g_fashion_d_sccl_26/144-7187702-4829661?psc=1\n",
      "https://www.amazon.com/TRENDOUX-Winter-Texting-Smartphone-Driving/dp/B07JYJM6JT/ref=zg_bs_g_fashion_d_sccl_18/144-7187702-4829661?psc=1\n",
      "https://www.amazon.com/Carhartt-Workwear-Pocket-Short-Sleeve-T-Shirt/dp/B0000ANHT7/ref=zg_bs_g_fashion_d_sccl_14/144-7187702-4829661?psc=1\n",
      "https://www.amazon.com/Legendary-Whitetails-Flannels-Cedarwood-Plaid/dp/B01K0ETB6E/ref=zg_bs_g_fashion_d_sccl_21/144-7187702-4829661?psc=1\n",
      "https://www.amazon.com/Hanes-Pullover-EcoSmart-Fleece-X-Large/dp/B00JUM2V4W/ref=zg_bs_g_fashion_d_sccl_4/144-7187702-4829661?psc=1\n",
      "https://www.amazon.com/adidas-Mens-Athletic-Black-Aluminum/dp/B008YA0Z44/ref=zg_bs_g_fashion_d_sccl_25/144-7187702-4829661?psc=1\n",
      "https://www.amazon.com/Fruit-Loom-Eversoft-Sweatshirts-Sweatshirt-Black/dp/B08YS526MS/ref=zg_bs_g_fashion_d_sccl_16/144-7187702-4829661?psc=1\n",
      "https://www.amazon.com/Crocs-Kids-Classic-Clog-Black/dp/B09643QGPD/ref=zg_bs_g_fashion_d_sccl_27/144-7187702-4829661?psc=1\n",
      "https://www.amazon.com/Sunzel-Leggings-Crossover-Control-High-Waisted/dp/B0BB7SP83Z/ref=zg_bs_g_fashion_d_sccl_12/144-7187702-4829661?psc=1\n",
      "https://www.amazon.com/Amazon-Essentials-Womens-Cotton-Stretch/dp/B06XKSR4R1/ref=zg_bs_g_fashion_d_sccl_22/144-7187702-4829661?psc=1\n",
      "https://www.amazon.com/UGG-Care-Kit-Natural-Size/dp/B01IU8WIJ4/ref=zg_bs_g_fashion_d_sccl_7/144-7187702-4829661?psc=1\n"
     ]
    }
   ],
   "source": [
    "\n",
    "# Amazon Best Sellers URL\n",
    "url = \"https://www.amazon.com/Best-Sellers-Clothing-Shoes-Jewelry/zgbs/fashion/ref=zg_bs_nav_fashion_0\"\n",
    "\n",
    "# Set up headers to mimic a browser\n",
    "# Hiep\n",
    "# headers = {\n",
    "#     \"User-Agent\": \"Mozilla/5.0 (Windows NT 10.0; Win64; x64) AppleWebKit/537.36 (KHTML, like Gecko) Chrome/91.0.4472.124 Safari/537.36\",\n",
    "#     \"Accept-Language\": \"en-US,en;q=0.9\",\n",
    "# }\n",
    "\n",
    "#Binh\n",
    "headers = {\n",
    "    \"User-Agent\": \"Mozilla/5.0 (Macintosh; Intel Mac OS X 10_15_7) AppleWebKit/537.36 (KHTML, like Gecko) Chrome/131.0.0.0 Safari/537.36\",\n",
    "    \"Accept-Language\": \"en-US,en;q=0.9\",\n",
    "}\n",
    "\n",
    "# Send a GET request\n",
    "response = requests.get(url, headers=headers)\n",
    "\n",
    "if response.status_code == 200:\n",
    "    soup = BeautifulSoup(response.content, \"html.parser\")\n",
    "    \n",
    "    # Find all item links on the page\n",
    "    links = []\n",
    "    # for a_tag in soup.find_all(\"div\", class_=\"gridItemRoot\"):\n",
    "    for a_tag in soup.find_all(\"div\", class_=\"zg-grid-general-faceout\"):\n",
    "        # print(f\"a_tag: {a_tag}\")\n",
    "        # href = a_tag.get(\"href\")\n",
    "        href = a_tag.find(\"a\")[\"href\"]\n",
    "        # print(f\"href: {href}\")\n",
    "        # if href and href.startswith(\"/dp/\"):\n",
    "            # full_link = \"https://www.amazon.com\" + href\n",
    "            # links.append(full_link)\n",
    "        full_link = \"https://www.amazon.com\" + href\n",
    "        links.append(full_link)\n",
    "\n",
    "    # Remove duplicates\n",
    "    unique_links = list(set(links))\n",
    "\n",
    "    # Print the links\n",
    "    print(\"Found\", len(unique_links), \"links:\")\n",
    "    for link in unique_links:\n",
    "        print(link)\n",
    "else:\n",
    "    print(\"Failed to fetch the page. Status code:\", response.status_code)\n"
   ]
  },
  {
   "cell_type": "code",
   "execution_count": null,
   "metadata": {},
   "outputs": [],
   "source": []
  },
  {
   "cell_type": "code",
   "execution_count": null,
   "metadata": {},
   "outputs": [],
   "source": []
  },
  {
   "cell_type": "code",
   "execution_count": null,
   "metadata": {},
   "outputs": [],
   "source": []
  },
  {
   "cell_type": "code",
   "execution_count": 4,
   "metadata": {},
   "outputs": [
    {
     "name": "stdout",
     "output_type": "stream",
     "text": [
      "[<li class=\"product-grid__item\"><a class=\"product-card js-product-view js-product-click\" href=\"/p/29388/hibiki-harmony\" onclick=\"_gaq.push(['trackSelectItem','29388']);_gaq.push(['_trackEvent','JapaneseWhisky-GridView','click','29388 : Hibiki Harmony'])\" title=\"Hibiki Harmony\"><div class=\"product-card__image-container\"><picture><source media=\"(max-width: 449.9px)\" srcset=\"https://img.thewhiskyexchange.com/190/japan_hib11.jpg?v=202407241 1x, https://img.thewhiskyexchange.com/380/japan_hib11.jpg?v=202407241 2x\"><source media=\"(min-width: 450px)\" srcset=\"https://img.thewhiskyexchange.com/240/japan_hib11.jpg?v=202407241 1x, https://img.thewhiskyexchange.com/480/japan_hib11.jpg?v=202407241 2x\"><img alt=\"Hibiki Harmony\" class=\"product-card__image\" height=\"4\" loading=\"lazy\" src=\"https://img.thewhiskyexchange.com/380/japan_hib11.jpg?v=202407241\" width=\"3\"/></source></source></picture><div class=\"product-extras product-extras--grid\"><div class=\"product-extras-flash product-extras-flash--purple\"><p class=\"product-extras-flash__content\">Save<br/>£6</p></div></div></div><div class=\"product-card__content\"><p class=\"product-card__name js-product-name\">Hibiki Harmony</p><p class=\"product-card__meta\">70cl / 43%</p></div><div class=\"product-card__data\"><p class=\"product-card__price\">£73.95</p><p class=\"product-card__unit-price\">(£105.64 per litre)</p></div></a></li>, <li class=\"product-grid__item\"><a class=\"product-card js-product-view js-product-click\" href=\"/p/2940/yamazaki-12-year-old\" onclick=\"_gaq.push(['trackSelectItem','2940']);_gaq.push(['_trackEvent','JapaneseWhisky-GridView','click','2940 : Yamazaki 12 Year Old'])\" title=\"Yamazaki 12 Year Old\"><div class=\"product-card__image-container\"><picture><source media=\"(max-width: 449.9px)\" srcset=\"https://img.thewhiskyexchange.com/190/japan_yam1.jpg?v=202407241 1x, https://img.thewhiskyexchange.com/380/japan_yam1.jpg?v=202407241 2x\"><source media=\"(min-width: 450px)\" srcset=\"https://img.thewhiskyexchange.com/240/japan_yam1.jpg?v=202407241 1x, https://img.thewhiskyexchange.com/480/japan_yam1.jpg?v=202407241 2x\"><img alt=\"Yamazaki 12 Year Old\" class=\"product-card__image\" height=\"4\" loading=\"lazy\" src=\"https://img.thewhiskyexchange.com/380/japan_yam1.jpg?v=202407241\" width=\"3\"/></source></source></picture><div class=\"product-extras product-extras--grid\"><div class=\"product-extras-flash product-extras-flash--purple\"><p class=\"product-extras-flash__content\">Save<br/>£5</p></div></div></div><div class=\"product-card__content\"><p class=\"product-card__name js-product-name\">Yamazaki 12 Year Old</p><p class=\"product-card__meta\">70cl / 43%</p></div><div class=\"product-card__data\"><p class=\"product-card__price\">£134</p><p class=\"product-card__unit-price\">(£191.43 per litre)</p></div></a></li>, <li class=\"product-grid__item\"><a class=\"product-card js-product-view js-product-click\" href=\"/p/32761/yoichi-single-malt\" onclick=\"_gaq.push(['trackSelectItem','32761']);_gaq.push(['_trackEvent','JapaneseWhisky-GridView','click','32761 : Yoichi Single Malt'])\" title=\"Yoichi Single Malt\"><div class=\"product-card__image-container\"><picture><source media=\"(max-width: 449.9px)\" srcset=\"https://img.thewhiskyexchange.com/190/japan_yoi22.jpg?v=202407241 1x, https://img.thewhiskyexchange.com/380/japan_yoi22.jpg?v=202407241 2x\"><source media=\"(min-width: 450px)\" srcset=\"https://img.thewhiskyexchange.com/240/japan_yoi22.jpg?v=202407241 1x, https://img.thewhiskyexchange.com/480/japan_yoi22.jpg?v=202407241 2x\"><img alt=\"Yoichi Single Malt\" class=\"product-card__image\" height=\"4\" loading=\"lazy\" src=\"https://img.thewhiskyexchange.com/380/japan_yoi22.jpg?v=202407241\" width=\"3\"/></source></source></picture><div class=\"product-extras product-extras--grid\"><div class=\"product-extras-flash product-extras-flash--purple\"><p class=\"product-extras-flash__content\">Save<br/>£11.45</p></div></div></div><div class=\"product-card__content\"><p class=\"product-card__name js-product-name\">Yoichi Single Malt</p><p class=\"product-card__meta\">70cl / 45%</p></div><div class=\"product-card__data\"><p class=\"product-card__price\">£65.50</p><p class=\"product-card__unit-price\">(£93.57 per litre)</p></div></a></li>, <li class=\"product-grid__item\"><a class=\"product-card js-product-view js-product-click\" href=\"/p/81705/yamazaki-18-year-old-gift-box\" onclick=\"_gaq.push(['trackSelectItem','81705']);_gaq.push(['_trackEvent','JapaneseWhisky-GridView','click','81705 : Yamazaki 18 Year Old / Gift Box'])\" title=\" Yamazaki 18 Year Old Gift Box\"><div class=\"product-card__image-container\"><picture><source media=\"(max-width: 449.9px)\" srcset=\"https://img.thewhiskyexchange.com/190/japan_yam18yov2.jpg?v=202407241 1x, https://img.thewhiskyexchange.com/380/japan_yam18yov2.jpg?v=202407241 2x\"><source media=\"(min-width: 450px)\" srcset=\"https://img.thewhiskyexchange.com/240/japan_yam18yov2.jpg?v=202407241 1x, https://img.thewhiskyexchange.com/480/japan_yam18yov2.jpg?v=202407241 2x\"><img alt=\"Yamazaki 18 Year Old Gift Box\" class=\"product-card__image\" height=\"4\" loading=\"lazy\" src=\"https://img.thewhiskyexchange.com/380/japan_yam18yov2.jpg?v=202407241\" width=\"3\"/></source></source></picture></div><div class=\"product-card__content\"><p class=\"product-card__name js-product-name\">Yamazaki 18 Year Old<span class=\"product-card__name-secondary\">Gift Box</span></p><p class=\"product-card__meta\">70cl / 43%</p></div><div class=\"product-card__data\"><p class=\"product-card__price\">£600</p><p class=\"product-card__unit-price\">(£857.14 per litre)</p></div></a></li>, <li class=\"product-grid__item\"><a class=\"product-card js-product-view js-product-click\" href=\"/p/72474/hibiki-17-year-old-whisky\" onclick=\"_gaq.push(['trackSelectItem','72474']);_gaq.push(['_trackEvent','JapaneseWhisky-GridView','click','72474 : Hibiki 17 Year Old Whisky'])\" title=\"Hibiki 17 Year Old Whisky\"><div class=\"product-card__image-container\"><picture><source media=\"(max-width: 449.9px)\" srcset=\"https://img.thewhiskyexchange.com/190/japan_hib17yo.jpg?v=202407241 1x, https://img.thewhiskyexchange.com/380/japan_hib17yo.jpg?v=202407241 2x\"><source media=\"(min-width: 450px)\" srcset=\"https://img.thewhiskyexchange.com/240/japan_hib17yo.jpg?v=202407241 1x, https://img.thewhiskyexchange.com/480/japan_hib17yo.jpg?v=202407241 2x\"><img alt=\"Hibiki 17 Year Old Whisky\" class=\"product-card__image\" height=\"4\" loading=\"lazy\" src=\"https://img.thewhiskyexchange.com/380/japan_hib17yo.jpg?v=202407241\" width=\"3\"/></source></source></picture></div><div class=\"product-card__content\"><p class=\"product-card__name js-product-name\">Hibiki 17 Year Old Whisky</p><p class=\"product-card__meta\">70cl / 43%</p></div><div class=\"product-card__data\"><p class=\"product-card__price\">£795</p><p class=\"product-card__unit-price\">(£1,135.71 per litre)</p></div></a></li>, <li class=\"product-grid__item\"><a class=\"product-card js-product-view js-product-click\" href=\"/p/10134/hibiki-21-year-old\" onclick=\"_gaq.push(['trackSelectItem','10134']);_gaq.push(['_trackEvent','JapaneseWhisky-GridView','click','10134 : Hibiki 21 Year Old'])\" title=\"Hibiki 21 Year Old\"><div class=\"product-card__image-container\"><picture><source media=\"(max-width: 449.9px)\" srcset=\"https://img.thewhiskyexchange.com/190/japan_hib6.jpg?v=202407241 1x, https://img.thewhiskyexchange.com/380/japan_hib6.jpg?v=202407241 2x\"><source media=\"(min-width: 450px)\" srcset=\"https://img.thewhiskyexchange.com/240/japan_hib6.jpg?v=202407241 1x, https://img.thewhiskyexchange.com/480/japan_hib6.jpg?v=202407241 2x\"><img alt=\"Hibiki 21 Year Old\" class=\"product-card__image\" height=\"4\" loading=\"lazy\" src=\"https://img.thewhiskyexchange.com/380/japan_hib6.jpg?v=202407241\" width=\"3\"/></source></source></picture></div><div class=\"product-card__content\"><p class=\"product-card__name js-product-name\">Hibiki 21 Year Old</p><p class=\"product-card__meta\">70cl / 43%</p></div><div class=\"product-card__data\"><p class=\"product-card__price\">£795</p><p class=\"product-card__unit-price\">(£1,135.71 per litre)</p></div></a></li>, <li class=\"product-grid__item\"><a class=\"product-card js-product-view js-product-click\" href=\"/p/23928/nikka-coffey-grain-whisky\" onclick=\"_gaq.push(['trackSelectItem','23928']);_gaq.push(['_trackEvent','JapaneseWhisky-GridView','click','23928 : Nikka Coffey Grain Whisky'])\" title=\"Nikka Coffey Grain Whisky\"><div class=\"product-card__image-container\"><picture><source media=\"(max-width: 449.9px)\" srcset=\"https://img.thewhiskyexchange.com/190/japan_nik24.jpg?v=202407241 1x, https://img.thewhiskyexchange.com/380/japan_nik24.jpg?v=202407241 2x\"><source media=\"(min-width: 450px)\" srcset=\"https://img.thewhiskyexchange.com/240/japan_nik24.jpg?v=202407241 1x, https://img.thewhiskyexchange.com/480/japan_nik24.jpg?v=202407241 2x\"><img alt=\"Nikka Coffey Grain Whisky\" class=\"product-card__image\" height=\"4\" loading=\"lazy\" src=\"https://img.thewhiskyexchange.com/380/japan_nik24.jpg?v=202407241\" width=\"3\"/></source></source></picture><div class=\"product-extras product-extras--grid\"><div class=\"product-extras-banner\"><img alt=\"Available with Engraving\" class=\"product-extras-banner__image\" height=\"37\" loading=\"lazy\" src=\"/cdn-cgi/image/fit=scale-down,width=198,metadata=none,format=webp/media/rtwe/assets/application/images/widgets/engraving-sm.png\" width=\"198\"/></div></div></div><div class=\"product-card__content\"><p class=\"product-card__name js-product-name\">Nikka Coffey Grain Whisky</p><p class=\"product-card__meta\">70cl / 45%</p></div><div class=\"product-card__data\"><p class=\"product-card__price\">£59.75</p><p class=\"product-card__unit-price\">(£85.36 per litre)</p></div></a></li>, <li class=\"product-grid__item\"><a class=\"product-card js-product-view js-product-click\" href=\"/p/23771/hakushu-distillers-reserve\" onclick=\"_gaq.push(['trackSelectItem','23771']);_gaq.push(['_trackEvent','JapaneseWhisky-GridView','click','23771 : Hakushu Distillers Reserve'])\" title=\"Hakushu Distiller's Reserve\"><div class=\"product-card__image-container\"><picture><source media=\"(max-width: 449.9px)\" srcset=\"https://img.thewhiskyexchange.com/190/japan_hak16.jpg?v=202407241 1x, https://img.thewhiskyexchange.com/380/japan_hak16.jpg?v=202407241 2x\"><source media=\"(min-width: 450px)\" srcset=\"https://img.thewhiskyexchange.com/240/japan_hak16.jpg?v=202407241 1x, https://img.thewhiskyexchange.com/480/japan_hak16.jpg?v=202407241 2x\"><img alt=\"Hakushu Distiller's Reserve\" class=\"product-card__image\" height=\"4\" loading=\"lazy\" src=\"https://img.thewhiskyexchange.com/380/japan_hak16.jpg?v=202407241\" width=\"3\"/></source></source></picture><div class=\"product-extras product-extras--grid\"><div class=\"product-extras-flash product-extras-flash--purple\"><p class=\"product-extras-flash__content\">Save<br/>£10</p></div><div class=\"product-extras-banner\"><img alt=\"Available with Engraving\" class=\"product-extras-banner__image\" height=\"37\" loading=\"lazy\" src=\"/cdn-cgi/image/fit=scale-down,width=198,metadata=none,format=webp/media/rtwe/assets/application/images/widgets/engraving-sm.png\" width=\"198\"/></div></div></div><div class=\"product-card__content\"><p class=\"product-card__name js-product-name\">Hakushu Distiller's Reserve</p><p class=\"product-card__meta\">70cl / 43%</p></div><div class=\"product-card__data\"><p class=\"product-card__price\">£59.75</p><p class=\"product-card__unit-price\">(£85.36 per litre)</p></div></a></li>, <li class=\"product-grid__item\"><a class=\"product-card js-product-view js-product-click\" href=\"/p/23772/yamazaki-distillers-reserve\" onclick=\"_gaq.push(['trackSelectItem','23772']);_gaq.push(['_trackEvent','JapaneseWhisky-GridView','click','23772 : Yamazaki Distillers Reserve'])\" title=\"Yamazaki Distiller's Reserve\"><div class=\"product-card__image-container\"><picture><source media=\"(max-width: 449.9px)\" srcset=\"https://img.thewhiskyexchange.com/190/japan_yam29.jpg?v=202407241 1x, https://img.thewhiskyexchange.com/380/japan_yam29.jpg?v=202407241 2x\"><source media=\"(min-width: 450px)\" srcset=\"https://img.thewhiskyexchange.com/240/japan_yam29.jpg?v=202407241 1x, https://img.thewhiskyexchange.com/480/japan_yam29.jpg?v=202407241 2x\"><img alt=\"Yamazaki Distiller's Reserve\" class=\"product-card__image\" height=\"4\" loading=\"lazy\" src=\"https://img.thewhiskyexchange.com/380/japan_yam29.jpg?v=202407241\" width=\"3\"/></source></source></picture></div><div class=\"product-card__content\"><p class=\"product-card__name js-product-name\">Yamazaki Distiller's Reserve</p><p class=\"product-card__meta\">70cl / 43%</p></div><div class=\"product-card__data\"><p class=\"product-card__price\">£78.75</p><p class=\"product-card__unit-price\">(£112.50 per litre)</p></div></a></li>, <li class=\"product-grid__item\"><a class=\"product-card js-product-view js-product-click\" href=\"/p/32762/miyagikyo-single-malt\" onclick=\"_gaq.push(['trackSelectItem','32762']);_gaq.push(['_trackEvent','JapaneseWhisky-GridView','click','32762 : Miyagikyo Single Malt'])\" title=\"Miyagikyo Single Malt\"><div class=\"product-card__image-container\"><picture><source media=\"(max-width: 449.9px)\" srcset=\"https://img.thewhiskyexchange.com/190/japan_miy10.jpg?v=202407241 1x, https://img.thewhiskyexchange.com/380/japan_miy10.jpg?v=202407241 2x\"><source media=\"(min-width: 450px)\" srcset=\"https://img.thewhiskyexchange.com/240/japan_miy10.jpg?v=202407241 1x, https://img.thewhiskyexchange.com/480/japan_miy10.jpg?v=202407241 2x\"><img alt=\"Miyagikyo Single Malt\" class=\"product-card__image\" height=\"4\" loading=\"lazy\" src=\"https://img.thewhiskyexchange.com/380/japan_miy10.jpg?v=202407241\" width=\"3\"/></source></source></picture><div class=\"product-extras product-extras--grid\"><div class=\"product-extras-flash product-extras-flash--purple\"><p class=\"product-extras-flash__content\">Save<br/>£11.45</p></div></div></div><div class=\"product-card__content\"><p class=\"product-card__name js-product-name\">Miyagikyo Single Malt</p><p class=\"product-card__meta\">70cl / 45%</p></div><div class=\"product-card__data\"><p class=\"product-card__price\">£65.50</p><p class=\"product-card__unit-price\">(£93.57 per litre)</p></div></a></li>, <li class=\"product-grid__item\"><a class=\"product-card js-product-view js-product-click\" href=\"/p/36362/suntory-toki\" onclick=\"_gaq.push(['trackSelectItem','36362']);_gaq.push(['_trackEvent','JapaneseWhisky-GridView','click','36362 : Suntory Toki'])\" title=\"Suntory Toki\"><div class=\"product-card__image-container\"><picture><source media=\"(max-width: 449.9px)\" srcset=\"https://img.thewhiskyexchange.com/190/japan_sun15.jpg?v=202407241 1x, https://img.thewhiskyexchange.com/380/japan_sun15.jpg?v=202407241 2x\"><source media=\"(min-width: 450px)\" srcset=\"https://img.thewhiskyexchange.com/240/japan_sun15.jpg?v=202407241 1x, https://img.thewhiskyexchange.com/480/japan_sun15.jpg?v=202407241 2x\"><img alt=\"Suntory Toki\" class=\"product-card__image\" height=\"4\" loading=\"lazy\" src=\"https://img.thewhiskyexchange.com/380/japan_sun15.jpg?v=202407241\" width=\"3\"/></source></source></picture></div><div class=\"product-card__content\"><p class=\"product-card__name js-product-name\">Suntory Toki</p><p class=\"product-card__meta\">70cl / 43%</p></div><div class=\"product-card__data\"><p class=\"product-card__price\">£34.25</p><p class=\"product-card__unit-price\">(£48.93 per litre)</p></div></a></li>, <li class=\"product-grid__item\"><a class=\"product-card js-product-view js-product-click\" href=\"/p/72178/kanosuke-single-malt\" onclick=\"_gaq.push(['trackSelectItem','72178']);_gaq.push(['_trackEvent','JapaneseWhisky-GridView','click','72178 : Kanosuke Single Malt'])\" title=\"Kanosuke Single Malt\"><div class=\"product-card__image-container\"><picture><source media=\"(max-width: 449.9px)\" srcset=\"https://img.thewhiskyexchange.com/190/japan_kan2.jpg?v=202407241 1x, https://img.thewhiskyexchange.com/380/japan_kan2.jpg?v=202407241 2x\"><source media=\"(min-width: 450px)\" srcset=\"https://img.thewhiskyexchange.com/240/japan_kan2.jpg?v=202407241 1x, https://img.thewhiskyexchange.com/480/japan_kan2.jpg?v=202407241 2x\"><img alt=\"Kanosuke Single Malt\" class=\"product-card__image\" height=\"4\" loading=\"lazy\" src=\"https://img.thewhiskyexchange.com/380/japan_kan2.jpg?v=202407241\" width=\"3\"/></source></source></picture></div><div class=\"product-card__content\"><p class=\"product-card__name js-product-name\">Kanosuke Single Malt</p><p class=\"product-card__meta\">70cl / 48%</p></div><div class=\"product-card__data\"><p class=\"product-card__price\">£89.95</p><p class=\"product-card__unit-price\">(£128.50 per litre)</p></div></a></li>, <li class=\"product-grid__item\"><a class=\"product-card js-product-view js-product-click\" href=\"/p/80949/chichibu-red-wine-cask-2023\" onclick=\"_gaq.push(['trackSelectItem','80949']);_gaq.push(['_trackEvent','JapaneseWhisky-GridView','click','80949 : Chichibu Red Wine Cask 2023'])\" title=\"Chichibu Red Wine Cask 2023\"><div class=\"product-card__image-container\"><picture><source media=\"(max-width: 449.9px)\" srcset=\"https://img.thewhiskyexchange.com/190/japan_chi37.jpg?v=202407241 1x, https://img.thewhiskyexchange.com/380/japan_chi37.jpg?v=202407241 2x\"><source media=\"(min-width: 450px)\" srcset=\"https://img.thewhiskyexchange.com/240/japan_chi37.jpg?v=202407241 1x, https://img.thewhiskyexchange.com/480/japan_chi37.jpg?v=202407241 2x\"><img alt=\"Chichibu Red Wine Cask 2023\" class=\"product-card__image\" height=\"4\" loading=\"lazy\" src=\"https://img.thewhiskyexchange.com/380/japan_chi37.jpg?v=202407241\" width=\"3\"/></source></source></picture></div><div class=\"product-card__content\"><p class=\"product-card__name js-product-name\">Chichibu Red Wine Cask 2023</p><p class=\"product-card__meta\">70cl / 50.5%</p></div><div class=\"product-card__data\"><p class=\"product-card__price\">£235</p><p class=\"product-card__unit-price\">(£335.71 per litre)</p></div></a></li>, <li class=\"product-grid__item\"><a class=\"product-card js-product-view js-product-click\" href=\"/p/44794/the-chita-distillers-reserve\" onclick=\"_gaq.push(['trackSelectItem','44794']);_gaq.push(['_trackEvent','JapaneseWhisky-GridView','click','44794 : The Chita Distillers Reserve'])\" title=\"The Chita Distiller's Reserve\"><div class=\"product-card__image-container\"><picture><source media=\"(max-width: 449.9px)\" srcset=\"https://img.thewhiskyexchange.com/190/japan_chi116.jpg?v=202407241 1x, https://img.thewhiskyexchange.com/380/japan_chi116.jpg?v=202407241 2x\"><source media=\"(min-width: 450px)\" srcset=\"https://img.thewhiskyexchange.com/240/japan_chi116.jpg?v=202407241 1x, https://img.thewhiskyexchange.com/480/japan_chi116.jpg?v=202407241 2x\"><img alt=\"The Chita Distiller's Reserve\" class=\"product-card__image\" height=\"4\" loading=\"lazy\" src=\"https://img.thewhiskyexchange.com/380/japan_chi116.jpg?v=202407241\" width=\"3\"/></source></source></picture></div><div class=\"product-card__content\"><p class=\"product-card__name js-product-name\">The Chita Distiller's Reserve</p><p class=\"product-card__meta\">70cl / 43%</p></div><div class=\"product-card__data\"><p class=\"product-card__price\">£60.25</p><p class=\"product-card__unit-price\">(£86.07 per litre)</p></div></a></li>, <li class=\"product-grid__item\"><a class=\"product-card js-product-view js-product-click\" href=\"/p/71032/kanosuke-single-malt-2022-limited-edition\" onclick=\"_gaq.push(['trackSelectItem','71032']);_gaq.push(['_trackEvent','JapaneseWhisky-GridView','click','71032 : Kanosuke Single Malt 2022 Limited Edition'])\" title=\"Kanosuke Single Malt 2022 Limited Edition\"><div class=\"product-card__image-container\"><picture><source media=\"(max-width: 449.9px)\" srcset=\"https://img.thewhiskyexchange.com/190/japan_kan1.jpg?v=202407241 1x, https://img.thewhiskyexchange.com/380/japan_kan1.jpg?v=202407241 2x\"><source media=\"(min-width: 450px)\" srcset=\"https://img.thewhiskyexchange.com/240/japan_kan1.jpg?v=202407241 1x, https://img.thewhiskyexchange.com/480/japan_kan1.jpg?v=202407241 2x\"><img alt=\"Kanosuke Single Malt 2022 Limited Edition\" class=\"product-card__image\" height=\"4\" loading=\"lazy\" src=\"https://img.thewhiskyexchange.com/380/japan_kan1.jpg?v=202407241\" width=\"3\"/></source></source></picture></div><div class=\"product-card__content\"><p class=\"product-card__name js-product-name\">Kanosuke Single Malt 2022 Limited Edition</p><p class=\"product-card__meta\">70cl / 59%</p></div><div class=\"product-card__data\"><p class=\"product-card__price\">£150</p><p class=\"product-card__unit-price\">(£214.29 per litre)</p></div></a></li>, <li class=\"product-grid__item\"><a class=\"product-card js-product-view js-product-click\" href=\"/p/72434/fuji-single-malt-whisky\" onclick=\"_gaq.push(['trackSelectItem','72434']);_gaq.push(['_trackEvent','JapaneseWhisky-GridView','click','72434 : Fuji Single Malt Whisky'])\" title=\"Fuji Single Malt Whisky\"><div class=\"product-card__image-container\"><picture><source media=\"(max-width: 449.9px)\" srcset=\"https://img.thewhiskyexchange.com/190/japan_fuj4.jpg?v=202407241 1x, https://img.thewhiskyexchange.com/380/japan_fuj4.jpg?v=202407241 2x\"><source media=\"(min-width: 450px)\" srcset=\"https://img.thewhiskyexchange.com/240/japan_fuj4.jpg?v=202407241 1x, https://img.thewhiskyexchange.com/480/japan_fuj4.jpg?v=202407241 2x\"><img alt=\"Fuji Single Malt Whisky\" class=\"product-card__image\" height=\"4\" loading=\"lazy\" src=\"https://img.thewhiskyexchange.com/380/japan_fuj4.jpg?v=202407241\" width=\"3\"/></source></source></picture></div><div class=\"product-card__content\"><p class=\"product-card__name js-product-name\">Fuji Single Malt Whisky</p><p class=\"product-card__meta\">70cl / 46%</p></div><div class=\"product-card__data\"><p class=\"product-card__price\">£71.75</p><p class=\"product-card__unit-price\">(£102.50 per litre)</p></div></a></li>, <li class=\"product-grid__item\"><a class=\"product-card js-product-view js-product-click\" href=\"/p/72433/fuji-single-grain-whiskey\" onclick=\"_gaq.push(['trackSelectItem','72433']);_gaq.push(['_trackEvent','JapaneseWhisky-GridView','click','72433 : Fuji Single Grain Whiskey'])\" title=\"Fuji Single Grain Whiskey\"><div class=\"product-card__image-container\"><picture><source media=\"(max-width: 449.9px)\" srcset=\"https://img.thewhiskyexchange.com/190/japan_fuj3.jpg?v=202407241 1x, https://img.thewhiskyexchange.com/380/japan_fuj3.jpg?v=202407241 2x\"><source media=\"(min-width: 450px)\" srcset=\"https://img.thewhiskyexchange.com/240/japan_fuj3.jpg?v=202407241 1x, https://img.thewhiskyexchange.com/480/japan_fuj3.jpg?v=202407241 2x\"><img alt=\"Fuji Single Grain Whiskey\" class=\"product-card__image\" height=\"4\" loading=\"lazy\" src=\"https://img.thewhiskyexchange.com/380/japan_fuj3.jpg?v=202407241\" width=\"3\"/></source></source></picture></div><div class=\"product-card__content\"><p class=\"product-card__name js-product-name\">Fuji Single Grain Whiskey</p><p class=\"product-card__meta\">70cl / 46%</p></div><div class=\"product-card__data\"><p class=\"product-card__price\">£62.95</p><p class=\"product-card__unit-price\">(£89.93 per litre)</p></div></a></li>, <li class=\"product-grid__item\"><a class=\"product-card js-product-view js-product-click\" href=\"/p/46186/ichiros-malt-mwr-mizunara-wood-reserve\" onclick=\"_gaq.push(['trackSelectItem','46186']);_gaq.push(['_trackEvent','JapaneseWhisky-GridView','click','46186 : Ichiros Malt MWR / Mizunara Wood Reserve'])\" title=\" Ichiro's Malt MWR Mizunara Wood Reserve\"><div class=\"product-card__image-container\"><picture><source media=\"(max-width: 449.9px)\" srcset=\"https://img.thewhiskyexchange.com/190/japan_ich10.jpg?v=202407241 1x, https://img.thewhiskyexchange.com/380/japan_ich10.jpg?v=202407241 2x\"><source media=\"(min-width: 450px)\" srcset=\"https://img.thewhiskyexchange.com/240/japan_ich10.jpg?v=202407241 1x, https://img.thewhiskyexchange.com/480/japan_ich10.jpg?v=202407241 2x\"><img alt=\"Ichiro's Malt MWR Mizunara Wood Reserve\" class=\"product-card__image\" height=\"4\" loading=\"lazy\" src=\"https://img.thewhiskyexchange.com/380/japan_ich10.jpg?v=202407241\" width=\"3\"/></source></source></picture></div><div class=\"product-card__content\"><p class=\"product-card__name js-product-name\">Ichiro's Malt MWR<span class=\"product-card__name-secondary\">Mizunara Wood Reserve</span></p><p class=\"product-card__meta\">70cl / 46.5%</p></div><div class=\"product-card__data\"><p class=\"product-card__price\">£99.95</p><p class=\"product-card__unit-price\">(£142.79 per litre)</p></div></a></li>, <li class=\"product-grid__item\"><a class=\"product-card js-product-view js-product-click\" href=\"/p/82431/ontake-single-malt-japanese-whisky-the-first-edition-sherry-cask\" onclick=\"_gaq.push(['trackSelectItem','82431']);_gaq.push(['_trackEvent','JapaneseWhisky-GridView','click','82431 : Ontake Single Malt Japanese Whisky / The First Edition / Sherry Cask'])\" title=\" Ontake Single Malt Japanese Whisky The First Edition Sherry Cask\"><div class=\"product-card__image-container\"><picture><source media=\"(max-width: 449.9px)\" srcset=\"https://img.thewhiskyexchange.com/190/japan_ont1.jpg?v=202407241 1x, https://img.thewhiskyexchange.com/380/japan_ont1.jpg?v=202407241 2x\"><source media=\"(min-width: 450px)\" srcset=\"https://img.thewhiskyexchange.com/240/japan_ont1.jpg?v=202407241 1x, https://img.thewhiskyexchange.com/480/japan_ont1.jpg?v=202407241 2x\"><img alt=\"Ontake Single Malt Japanese Whisky The First Edition Sherry Cask\" class=\"product-card__image\" height=\"4\" loading=\"lazy\" src=\"https://img.thewhiskyexchange.com/380/japan_ont1.jpg?v=202407241\" width=\"3\"/></source></source></picture></div><div class=\"product-card__content\"><p class=\"product-card__name js-product-name\">Ontake Single Malt Japanese Whisky<span class=\"product-card__name-secondary\">The First Edition Sherry Cask</span></p><p class=\"product-card__meta\">70cl / 43%</p></div><div class=\"product-card__data\"><p class=\"product-card__price\">£249</p><p class=\"product-card__unit-price\">(£355.71 per litre)</p></div></a></li>, <li class=\"product-grid__item\"><a class=\"product-card js-product-view js-product-click\" href=\"/p/68758/hibiki-blossom-harmony-bot2022\" onclick=\"_gaq.push(['trackSelectItem','68758']);_gaq.push(['_trackEvent','JapaneseWhisky-GridView','click','68758 : Hibiki Blossom Harmony / Bot.2022'])\" title=\" Hibiki Blossom Harmony Bot.2022\"><div class=\"product-card__image-container\"><picture><source media=\"(max-width: 449.9px)\" srcset=\"https://img.thewhiskyexchange.com/190/japan_hib20.jpg?v=202407241 1x, https://img.thewhiskyexchange.com/380/japan_hib20.jpg?v=202407241 2x\"><source media=\"(min-width: 450px)\" srcset=\"https://img.thewhiskyexchange.com/240/japan_hib20.jpg?v=202407241 1x, https://img.thewhiskyexchange.com/480/japan_hib20.jpg?v=202407241 2x\"><img alt=\"Hibiki Blossom Harmony Bot.2022\" class=\"product-card__image\" height=\"4\" loading=\"lazy\" src=\"https://img.thewhiskyexchange.com/380/japan_hib20.jpg?v=202407241\" width=\"3\"/></source></source></picture></div><div class=\"product-card__content\"><p class=\"product-card__name js-product-name\">Hibiki Blossom Harmony<span class=\"product-card__name-secondary\">Bot.2022</span></p><p class=\"product-card__meta\">70cl / 43%</p></div><div class=\"product-card__data\"><p class=\"product-card__price\">£250</p><p class=\"product-card__unit-price\">(£357.14 per litre)</p></div></a></li>, <li class=\"product-grid__item\"><a class=\"product-card js-product-view js-product-click\" href=\"/p/73019/fuji-single-blended-whisky\" onclick=\"_gaq.push(['trackSelectItem','73019']);_gaq.push(['_trackEvent','JapaneseWhisky-GridView','click','73019 : Fuji Single Blended Whisky'])\" title=\"Fuji Single Blended Whisky\"><div class=\"product-card__image-container\"><picture><source media=\"(max-width: 449.9px)\" srcset=\"https://img.thewhiskyexchange.com/190/japan_fuj5.jpg?v=202407241 1x, https://img.thewhiskyexchange.com/380/japan_fuj5.jpg?v=202407241 2x\"><source media=\"(min-width: 450px)\" srcset=\"https://img.thewhiskyexchange.com/240/japan_fuj5.jpg?v=202407241 1x, https://img.thewhiskyexchange.com/480/japan_fuj5.jpg?v=202407241 2x\"><img alt=\"Fuji Single Blended Whisky\" class=\"product-card__image\" height=\"4\" loading=\"lazy\" src=\"https://img.thewhiskyexchange.com/380/japan_fuj5.jpg?v=202407241\" width=\"3\"/></source></source></picture></div><div class=\"product-card__content\"><p class=\"product-card__name js-product-name\">Fuji Single Blended Whisky</p><p class=\"product-card__meta\">70cl / 43%</p></div><div class=\"product-card__data\"><p class=\"product-card__price\">£58.75</p><p class=\"product-card__unit-price\">(£83.93 per litre)</p></div></a></li>, <li class=\"product-grid__item\"><a class=\"product-card js-product-view js-product-click\" href=\"/p/71847/yamazaki-12-year-old-100th-anniversary\" onclick=\"_gaq.push(['trackSelectItem','71847']);_gaq.push(['_trackEvent','JapaneseWhisky-GridView','click','71847 : Yamazaki 12 Year Old / 100th Anniversary'])\" title=\" Yamazaki 12 Year Old 100th Anniversary\"><div class=\"product-card__image-container\"><picture><source media=\"(max-width: 449.9px)\" srcset=\"https://img.thewhiskyexchange.com/190/japan_yam12yo.jpg?v=202407241 1x, https://img.thewhiskyexchange.com/380/japan_yam12yo.jpg?v=202407241 2x\"><source media=\"(min-width: 450px)\" srcset=\"https://img.thewhiskyexchange.com/240/japan_yam12yo.jpg?v=202407241 1x, https://img.thewhiskyexchange.com/480/japan_yam12yo.jpg?v=202407241 2x\"><img alt=\"Yamazaki 12 Year Old 100th Anniversary\" class=\"product-card__image\" height=\"4\" loading=\"lazy\" src=\"https://img.thewhiskyexchange.com/380/japan_yam12yo.jpg?v=202407241\" width=\"3\"/></source></source></picture></div><div class=\"product-card__content\"><p class=\"product-card__name js-product-name\">Yamazaki 12 Year Old<span class=\"product-card__name-secondary\">100th Anniversary</span></p><p class=\"product-card__meta\">70cl / 43%</p></div><div class=\"product-card__data\"><p class=\"product-card__price\">£199</p><p class=\"product-card__unit-price\">(£284.29 per litre)</p></div></a></li>, <li class=\"product-grid__item\"><a class=\"product-card js-product-view js-product-click\" href=\"/p/31531/akashi-single-malt-whisky\" onclick=\"_gaq.push(['trackSelectItem','31531']);_gaq.push(['_trackEvent','JapaneseWhisky-GridView','click','31531 : Akashi Single Malt Whisky'])\" title=\"Akashi Single Malt Whisky\"><div class=\"product-card__image-container\"><picture><source media=\"(max-width: 449.9px)\" srcset=\"https://img.thewhiskyexchange.com/190/japan_aka2.jpg?v=202407241 1x, https://img.thewhiskyexchange.com/380/japan_aka2.jpg?v=202407241 2x\"><source media=\"(min-width: 450px)\" srcset=\"https://img.thewhiskyexchange.com/240/japan_aka2.jpg?v=202407241 1x, https://img.thewhiskyexchange.com/480/japan_aka2.jpg?v=202407241 2x\"><img alt=\"Akashi Single Malt Whisky\" class=\"product-card__image\" height=\"4\" loading=\"lazy\" src=\"https://img.thewhiskyexchange.com/380/japan_aka2.jpg?v=202407241\" width=\"3\"/></source></source></picture></div><div class=\"product-card__content\"><p class=\"product-card__name js-product-name\">Akashi Single Malt Whisky</p><p class=\"product-card__meta\">50cl / 46%</p></div><div class=\"product-card__data\"><p class=\"product-card__price\">£68.95</p><p class=\"product-card__unit-price\">(£137.90 per litre)</p></div></a></li>, <li class=\"product-grid__item\"><a class=\"product-card js-product-view js-product-click\" href=\"/p/45367/kaiyo-mizunara-oak-cask-strength\" onclick=\"_gaq.push(['trackSelectItem','45367']);_gaq.push(['_trackEvent','JapaneseWhisky-GridView','click','45367 : Kaiyo Mizunara Oak Cask Strength'])\" title=\"Kaiyo Mizunara Oak Cask Strength\"><div class=\"product-card__image-container\"><picture><source media=\"(max-width: 449.9px)\" srcset=\"https://img.thewhiskyexchange.com/190/japan_kai2.jpg?v=202407241 1x, https://img.thewhiskyexchange.com/380/japan_kai2.jpg?v=202407241 2x\"><source media=\"(min-width: 450px)\" srcset=\"https://img.thewhiskyexchange.com/240/japan_kai2.jpg?v=202407241 1x, https://img.thewhiskyexchange.com/480/japan_kai2.jpg?v=202407241 2x\"><img alt=\"Kaiyo Mizunara Oak Cask Strength\" class=\"product-card__image\" height=\"4\" loading=\"lazy\" src=\"https://img.thewhiskyexchange.com/380/japan_kai2.jpg?v=202407241\" width=\"3\"/></source></source></picture></div><div class=\"product-card__content\"><p class=\"product-card__name js-product-name\">Kaiyo Mizunara Oak Cask Strength</p><p class=\"product-card__meta\">70cl / 53%</p></div><div class=\"product-card__data\"><p class=\"product-card__price\">£103</p><p class=\"product-card__unit-price\">(£147.14 per litre)</p></div></a></li>]\n"
     ]
    }
   ],
   "source": [
    "url = \"https://www.thewhiskyexchange.com/c/35/japanese-whisky\"\n",
    "\n",
    "driver = webdriver.Chrome()\n",
    "\n",
    "driver.get(url)\n",
    "html = driver.page_source\n",
    "soup = BeautifulSoup(html, 'lxml')\n",
    "\n",
    "products = soup.find_all('li', class_=\"product-grid__item\")\n",
    "print(products)"
   ]
  },
  {
   "cell_type": "code",
   "execution_count": 5,
   "metadata": {},
   "outputs": [
    {
     "name": "stdout",
     "output_type": "stream",
     "text": [
      "Failed to fetch the page. Status code: 403\n"
     ]
    }
   ],
   "source": [
    "# url = \"https://www.thewhiskyexchange.com/c/35/japanese-whisky\"\n",
    "\n",
    "# Set up headers to mimic a browser\n",
    "\n",
    "headers = {\n",
    "    \"User-Agent\": \"Mozilla/5.0 (Macintosh; Intel Mac OS X 10_15_7) AppleWebKit/537.36 (KHTML, like Gecko) Chrome/131.0.0.0 Safari/537.36\",\n",
    "    \"Accept-Language\": \"en-US,en-GB;q=0.9,en;q=0.8,vi-VN;q=0.7,vi;q=0.6\",\n",
    "}\n",
    "\n",
    "# Send a GET request\n",
    "response = requests.get(url, headers=headers)\n",
    "\n",
    "if response.status_code == 200:\n",
    "    soup = BeautifulSoup(response.content, \"html.parser\")\n",
    "    \n",
    "    # Find all item links on the page\n",
    "    links = []\n",
    "    # for a_tag in soup.find_all(\"div\", class_=\"gridItemRoot\"):\n",
    "    for a_tag in soup.find_all(\"li\", class_=\"product-grid__item\"):\n",
    "        print(f\"a_tag: {a_tag}\")\n",
    "        # href = a_tag.get(\"href\")\n",
    "        href = a_tag.find(\"a\")[\"href\"]\n",
    "        print(f\"href: {href}\")\n",
    "        # if href and href.startswith(\"/dp/\"):\n",
    "            # full_link = \"https://www.amazon.com\" + href\n",
    "            # links.append(full_link)\n",
    "        # full_link = \"https://www.amazon.com\" + href\n",
    "        # links.append(full_link)\n",
    "\n",
    "    # Remove duplicates\n",
    "    unique_links = list(set(links))\n",
    "\n",
    "    # Print the links\n",
    "    print(\"Found\", len(unique_links), \"links:\")\n",
    "    for link in unique_links:\n",
    "        print(link)\n",
    "else:\n",
    "    print(\"Failed to fetch the page. Status code:\", response.status_code)\n"
   ]
  },
  {
   "cell_type": "code",
   "execution_count": 19,
   "metadata": {
    "id": "Ts7oOowDRdD5"
   },
   "outputs": [],
   "source": [
    "def main(URL):\n",
    "    # opening our output file in append mode\n",
    "    File = open(\"out.csv\", \"a\")\n",
    "\n",
    "    # specifying user agent, You can use other user agents\n",
    "    # available on the internet\n",
    "    HEADERS = {\n",
    "        'User-Agent':'Mozilla/5.0 (X11; Linux x86_64) AppleWebKit/537.36 (KHTML, like Gecko) Chrome/44.0.2403.157 Safari/537.36',\n",
    "        'Accept-Language': 'en-US, en;q=0.5'\n",
    "    }\n",
    "\n",
    "    # Making the HTTP Request\n",
    "    webpage = requests.get(URL, headers=HEADERS)\n",
    "\n",
    "    # Creating the Soup Object containing all data\n",
    "    soup = BeautifulSoup(webpage.content, \"lxml\")\n",
    "\n",
    "    # retrieving product title\n",
    "    try:\n",
    "        # Outer Tag Object\n",
    "        title = soup.find(\"span\", attrs={\n",
    "            'id': 'productTitle'\n",
    "        })\n",
    "\n",
    "        # Inner NavigableString Object\n",
    "        title_value = title.string\n",
    "\n",
    "        # Title as a string value\n",
    "        title_string = title_value.strip().replace(',', '')\n",
    "\n",
    "    except AttributeError:\n",
    "        title_string = \"NA\"\n",
    "    print(\"product Title = \", title_string)\n",
    "\n",
    "    # saving the title in the file\n",
    "    File.write(f\"{title_string},\")\n",
    "\n",
    "    # Binh's comment:\n",
    "    # This id priceblock might not be practical since I always see NA whichever links I scrap.\n",
    "    # And seems like the price on Amazon will always change. So a price tracker could be a good approach for this\n",
    "    # Please refer to the link to understand how to implement a price tracker and integrate it in this code\n",
    "    # https://www.youtube.com/watch?v=qukjS96clB8\n",
    "    \n",
    "    # retrieving price\n",
    "    try:\n",
    "        price = soup.find(\"span\", attrs={\n",
    "            'id': 'priceblock_ourprice'\n",
    "        }).string.strip().replace(',', '')\n",
    "        # we are omitting unnecessary spaces\n",
    "        # and commas form our string\n",
    "    except AttributeError:\n",
    "        price = \"NA\"\n",
    "    print(\"Products price = \", price)\n",
    "\n",
    "    # saving\n",
    "    File.write(f\"{price},\")\n",
    "\n",
    "    # retrieving product rating\n",
    "    try:\n",
    "        rating = soup.find(\"i\", attrs={\n",
    "                           'class': 'a-icon a-icon-star a-star-4-5'\n",
    "        }).string.strip().replace(',', '')\n",
    "\n",
    "    except AttributeError:\n",
    "\n",
    "        try:\n",
    "            rating = soup.find(\"span\", attrs={\n",
    "                'class': 'a-icon-alt'\n",
    "            }).string.strip().replace(',', '')\n",
    "        except:\n",
    "            rating = \"NA\"\n",
    "    print(\"Overall rating = \", rating)\n",
    "\n",
    "    File.write(f\"{rating},\")\n",
    "\n",
    "    try:\n",
    "        review_count = soup.find(\"span\", attrs={\n",
    "            'id': 'acrCustomerReviewText'\n",
    "        }).string.strip().replace(',', '')\n",
    "\n",
    "    except AttributeError:\n",
    "        review_count = \"NA\"\n",
    "    print(\"Total reviews = \", review_count)\n",
    "    File.write(f\"{review_count},\")\n",
    "\n",
    "    # Binh's comment: This one might also need a tracker too\n",
    "    # print availablility status\n",
    "    try:\n",
    "        available = soup.find(\"div\", attrs={'id': 'availability'})\n",
    "        available = available.find(\"span\").string.strip().replace(',', '')\n",
    "\n",
    "    except AttributeError:\n",
    "        available = \"NA\"\n",
    "    print(\"Availability = \", available)\n",
    "\n",
    "    # saving the availability and closing the line\n",
    "    File.write(f\"{available},\\n\")\n",
    "\n",
    "    ####################################################################################################################\n",
    "    ### CAN WE ALSO GET OTHER INFO?                                                                                  ###\n",
    "    ### COLOR, SIZE, PRODUCT DETAILS (FABRIC, CARE INSTRUCTIONS, ORIGIN, ETC), ABOUT THIS ITEM (PRODUCT DESCRIPTION) ###\n",
    "    ####################################################################################################################\n",
    "\n",
    "    # closing the file\n",
    "    File.close()"
   ]
  },
  {
   "cell_type": "code",
   "execution_count": 6,
   "metadata": {
    "colab": {
     "base_uri": "https://localhost:8080/"
    },
    "id": "BIsFP8iKT_bj",
    "outputId": "6042e1eb-8f0f-420a-e380-9c5db1efe171"
   },
   "outputs": [
    {
     "name": "stdout",
     "output_type": "stream",
     "text": [
      "product Title =  Dremel - 3D40-FLX-EDU DigiLab 3D40 Flex 3D Printer w/Extra Supplies 30 Lesson Plans Professional Development Course Flexible Build Plate Automated 9-Point Leveling PC & MAC OS Chromebook iPad Compatible\n",
      "Products price =  NA\n",
      "Overall rating =  3.7 out of 5 stars\n",
      "Total reviews =  46 ratings\n",
      "Availability =  NA\n"
     ]
    }
   ],
   "source": [
    "if __name__ == '__main__':\n",
    "    main(\"https://www.amazon.com/Dremel-Education-Accessories-Professional-Development/dp/B07KZ8XNDT\")"
   ]
  },
  {
   "cell_type": "code",
   "execution_count": 8,
   "metadata": {
    "id": "e7OrRzPNUDVo"
   },
   "outputs": [
    {
     "name": "stdout",
     "output_type": "stream",
     "text": [
      "product Title =  Original Prusa MK4 3D Printer kit Removable Print Sheets Beginner-Friendly 3D Printer DYI Kit Fun to Assemble Automatic Calibration Filament Sample Included Print Size 9.84×8.3×8.6 in.\n",
      "Products price =  NA\n",
      "Overall rating =  4.3 out of 5 stars\n",
      "Total reviews =  32 ratings\n",
      "Availability =  Only 1 left in stock (more on the way).\n"
     ]
    }
   ],
   "source": [
    "if __name__ == '__main__':\n",
    "    main(\"https://www.amazon.com/Original-Removable-Beginner-Friendly-Calibration-9-84%C3%978-3%C3%978-6/dp/B0CKSW74GX/?_encoding=UTF8&pd_rd_w=sHaZz&content-id=amzn1.sym.255b3518-6e7f-495c-8611-30a58648072e%3Aamzn1.symc.a68f4ca3-28dc-4388-a2cf-24672c480d8f&pf_rd_p=255b3518-6e7f-495c-8611-30a58648072e&pf_rd_r=2GQR5F8HV4R3H1T55724&pd_rd_wg=jhZtJ&pd_rd_r=fa1ae611-71fb-486b-a43d-50a4fabe5a29&ref_=pd_hp_d_atf_ci_mcx_mr_ca_hp_atf_d\")"
   ]
  },
  {
   "cell_type": "code",
   "execution_count": 20,
   "metadata": {},
   "outputs": [
    {
     "name": "stdout",
     "output_type": "stream",
     "text": [
      "title_value:         THE GYM PEOPLE Thick High Waist Yoga Pants with Pockets, Tummy Control Workout Running Yoga Leggings for Women       \n",
      "product Title =  THE GYM PEOPLE Thick High Waist Yoga Pants with Pockets Tummy Control Workout Running Yoga Leggings for Women\n",
      "Products price =  NA\n",
      "Overall rating =  4.4 out of 5 stars\n",
      "Total reviews =  56390 ratings\n",
      "Availability =  In Stock\n"
     ]
    }
   ],
   "source": [
    "if __name__ == '__main__':\n",
    "    main(\"https://www.amazon.com/GYM-PEOPLE-Pockets-Control-Leggings/dp/B07HQM6NH8/ref=zg_bs_g_fashion_d_sccl_1/132-2939833-0120902?psc=1\")"
   ]
  },
  {
   "cell_type": "code",
   "execution_count": null,
   "metadata": {},
   "outputs": [],
   "source": []
  }
 ],
 "metadata": {
  "colab": {
   "provenance": []
  },
  "kernelspec": {
   "display_name": "Python (web_scraping)",
   "language": "python",
   "name": "web_scraping"
  },
  "language_info": {
   "codemirror_mode": {
    "name": "ipython",
    "version": 3
   },
   "file_extension": ".py",
   "mimetype": "text/x-python",
   "name": "python",
   "nbconvert_exporter": "python",
   "pygments_lexer": "ipython3",
   "version": "3.9.21"
  }
 },
 "nbformat": 4,
 "nbformat_minor": 4
}
